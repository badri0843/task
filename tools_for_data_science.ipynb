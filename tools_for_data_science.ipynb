{
  "nbformat": 4,
  "nbformat_minor": 0,
  "metadata": {
    "colab": {
      "provenance": [],
      "authorship_tag": "ABX9TyNFqxN8wIu7bP6ucR3jDkqm",
      "include_colab_link": true
    },
    "kernelspec": {
      "name": "python3",
      "display_name": "Python 3"
    },
    "language_info": {
      "name": "python"
    }
  },
  "cells": [
    {
      "cell_type": "markdown",
      "metadata": {
        "id": "view-in-github",
        "colab_type": "text"
      },
      "source": [
        "<a href=\"https://colab.research.google.com/github/badri0843/task/blob/main/tools_for_data_science.ipynb\" target=\"_parent\"><img src=\"https://colab.research.google.com/assets/colab-badge.svg\" alt=\"Open In Colab\"/></a>"
      ]
    },
    {
      "cell_type": "code",
      "execution_count": null,
      "metadata": {
        "id": "A5QQKI9_RWCV"
      },
      "outputs": [],
      "source": []
    },
    {
      "cell_type": "markdown",
      "source": [
        "Data Science Tools and Ecosystem\n",
        "In this notebook, Data Science Tools and Ecosystem are summarized.\n",
        "\n",
        "Some of the popular languages that Data Scientists use are: 1.Python 2.Julia 3.R\n",
        "\n",
        "Some of the commonly used libraries used by Data Scientists include: 1.Numpy 2.Pandas 3.Tensorflow"
      ],
      "metadata": {
        "id": "dSkAa59rRlC6"
      }
    },
    {
      "cell_type": "code",
      "source": [
        "from IPython.display import Markdown, display\n",
        "\n",
        "# Define the table contents\n",
        "table = \"| Tool | Description |\\n| --- | --- |\\n| NumPy | Numerical computing library |\\n| Pandas | Data manipulation and analysis library |\\n| Matplotlib | Data visualization library |\\n| Scikit-learn | Machine learning library |\\n| TensorFlow | Open-source machine learning platform |\\n| Keras | High-level neural networks API |\\n| PyTorch | Open-source machine learning library |\\n| Seaborn | Data visualization library |\\n| SciPy | Scientific computing library |\\n| NLTK | Natural language processing library |\\n| Statsmodels | Statistical modeling library |\"\n",
        "\n",
        "# Create the Markdown cell\n",
        "display(Markdown(table))"
      ],
      "metadata": {
        "colab": {
          "base_uri": "https://localhost:8080/",
          "height": 394
        },
        "id": "h82nbQvJRmpC",
        "outputId": "b4d88493-bc58-4e0a-9bf9-1c4e7a8be6e2"
      },
      "execution_count": 1,
      "outputs": [
        {
          "output_type": "display_data",
          "data": {
            "text/plain": [
              "<IPython.core.display.Markdown object>"
            ],
            "text/markdown": "| Tool | Description |\n| --- | --- |\n| NumPy | Numerical computing library |\n| Pandas | Data manipulation and analysis library |\n| Matplotlib | Data visualization library |\n| Scikit-learn | Machine learning library |\n| TensorFlow | Open-source machine learning platform |\n| Keras | High-level neural networks API |\n| PyTorch | Open-source machine learning library |\n| Seaborn | Data visualization library |\n| SciPy | Scientific computing library |\n| NLTK | Natural language processing library |\n| Statsmodels | Statistical modeling library |"
          },
          "metadata": {}
        }
      ]
    },
    {
      "cell_type": "code",
      "source": [
        "from IPython.display import Markdown, display\n",
        "\n",
        "# Define the Markdown string with the H3 heading\n",
        "md = \"### Below are a few examples of evaluating arithmetic expressions in Python\\n\"\n",
        "\n",
        "# Add the Markdown string to the existing Markdown cell\n",
        "display(Markdown(md))"
      ],
      "metadata": {
        "colab": {
          "base_uri": "https://localhost:8080/",
          "height": 58
        },
        "id": "b8zmK-N4RqD0",
        "outputId": "0894f621-c840-4f41-f5db-a028436c1077"
      },
      "execution_count": 2,
      "outputs": [
        {
          "output_type": "display_data",
          "data": {
            "text/plain": [
              "<IPython.core.display.Markdown object>"
            ],
            "text/markdown": "### Below are a few examples of evaluating arithmetic expressions in Python\n"
          },
          "metadata": {}
        }
      ]
    },
    {
      "cell_type": "code",
      "source": [
        "(3*4)+5"
      ],
      "metadata": {
        "colab": {
          "base_uri": "https://localhost:8080/"
        },
        "id": "4NVVZJliRyB8",
        "outputId": "f15e4cf5-eb60-4d48-a837-99d69f3a1820"
      },
      "execution_count": 3,
      "outputs": [
        {
          "output_type": "execute_result",
          "data": {
            "text/plain": [
              "17"
            ]
          },
          "metadata": {},
          "execution_count": 3
        }
      ]
    },
    {
      "cell_type": "code",
      "source": [
        "# Define the value in minutes\n",
        "minutes = 180\n",
        "\n",
        "# Convert minutes to hours\n",
        "hours = minutes / 60\n",
        "\n",
        "# Print the result\n",
        "print(f\"{minutes} minutes is equal to {hours} hours\")"
      ],
      "metadata": {
        "colab": {
          "base_uri": "https://localhost:8080/"
        },
        "id": "-SBD9ouSR1pF",
        "outputId": "0e4e27ce-f5a0-4299-eec7-9d6aa5fe31ca"
      },
      "execution_count": 5,
      "outputs": [
        {
          "output_type": "stream",
          "name": "stdout",
          "text": [
            "180 minutes is equal to 3.0 hours\n"
          ]
        }
      ]
    },
    {
      "cell_type": "markdown",
      "source": [
        "Author BADRINADH NANDIGAM"
      ],
      "metadata": {
        "id": "HmU191V6S3tO"
      }
    }
  ]
}